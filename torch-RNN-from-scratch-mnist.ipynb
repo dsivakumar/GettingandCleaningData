{
 "cells": [
  {
   "cell_type": "markdown",
   "metadata": {},
   "source": [
    "New to pyTorch, as usual, wanted to learn by doing things from scratch. Below are a few blogs that got me going.\n",
    "\n",
    "Number 1, really from scratch\n",
    "https://towardsdatascience.com/understanding-pytorch-with-an-example-a-step-by-step-tutorial-81fc5f8c4e8e?#3a3f\n",
    "\n",
    "ImageRNN but it is using nn.RNN, I wanted even lower..\n",
    "https://medium.com/dair-ai/building-rnns-is-fun-with-pytorch-and-google-colab-3903ea9a3a79\n",
    "\n",
    "PyTorch - Tutorial that set me thingking\n",
    "https://pytorch.org/tutorials/intermediate/char_rnn_classification_tutorial.html\n",
    "https://pytorch.org/tutorials/beginner/former_torchies/nnft_tutorial.html\n"
   ]
  },
  {
   "cell_type": "code",
   "execution_count": 1,
   "metadata": {},
   "outputs": [],
   "source": [
    "import torch \n",
    "import torch.nn as nn\n",
    "import torchvision\n",
    "import torchvision.transforms as transforms"
   ]
  },
  {
   "cell_type": "code",
   "execution_count": 3,
   "metadata": {},
   "outputs": [],
   "source": [
    "import matplotlib.pyplot as plt\n",
    "import numpy as np"
   ]
  },
  {
   "cell_type": "code",
   "execution_count": 2,
   "metadata": {},
   "outputs": [],
   "source": [
    "BATCH_SIZE = 64\n",
    "\n",
    "# list all transformations\n",
    "transform = transforms.Compose(\n",
    "    [transforms.ToTensor()])\n",
    "# download and load training dataset\n",
    "trainset = torchvision.datasets.MNIST(root='./data', train=True,\n",
    "                                        download=True, transform=transform)\n",
    "trainloader = torch.utils.data.DataLoader(trainset, batch_size=BATCH_SIZE,\n",
    "                                          shuffle=True, num_workers=2,drop_last=True)\n",
    "\n",
    "# download and load testing dataset\n",
    "testset = torchvision.datasets.MNIST(root='./data', train=False,\n",
    "                                       download=True, transform=transform)\n",
    "testloader = torch.utils.data.DataLoader(testset, batch_size=BATCH_SIZE,\n",
    "                                         shuffle=False, num_workers=2,drop_last=True)"
   ]
  },
  {
   "cell_type": "code",
   "execution_count": 4,
   "metadata": {},
   "outputs": [
    {
     "data": {
      "image/png": "[encoded data removed]",
      "text/plain": [
       "<Figure size 432x288 with 1 Axes>"
      ]
     },
     "metadata": {
      "needs_background": "light"
     },
     "output_type": "display_data"
    }
   ],
   "source": [
    "# functions to show an image\n",
    "def imshow(img):\n",
    "    #img = img / 2 + 0.5     # unnormalize\n",
    "    npimg = img.numpy()\n",
    "    plt.imshow(np.transpose(npimg, (1, 2, 0)))\n",
    "\n",
    "# get some random training images\n",
    "dataiter = iter(trainloader)\n",
    "images, labels = dataiter.next()\n",
    "\n",
    "# show images\n",
    "imshow(torchvision.utils.make_grid(images))"
   ]
  },
  {
   "cell_type": "code",
   "execution_count": 14,
   "metadata": {},
   "outputs": [],
   "source": [
    "N_INPUTS = 28*28 #image size is 28x28 and one input so, flatten it to 1D \n",
    "N_HIDDEN = 64 #hidden state \n",
    "N_OUTPUTS = 10 #0-#9\n",
    "N_EPHOCS = 10"
   ]
  },
  {
   "cell_type": "code",
   "execution_count": 17,
   "metadata": {},
   "outputs": [
    {
     "data": {
      "text/plain": [
       "device(type='cuda', index=0)"
      ]
     },
     "execution_count": 17,
     "metadata": {},
     "output_type": "execute_result"
    }
   ],
   "source": [
    "# Device\n",
    "device = torch.device(\"cuda:0\" if torch.cuda.is_available() else \"cpu\")\n",
    "device"
   ]
  },
  {
   "cell_type": "code",
   "execution_count": 16,
   "metadata": {},
   "outputs": [],
   "source": [
    "#accuracy calculations\n",
    "def get_accuracy(logit, target, batch_size):\n",
    "    ''' Obtain accuracy for training round '''\n",
    "    corrects = (torch.max(logit, 1)[1].view(target.size()).data == target.data).sum()\n",
    "    accuracy = 100.0 * corrects/batch_size\n",
    "    return accuracy.item()"
   ]
  },
  {
   "cell_type": "code",
   "execution_count": 55,
   "metadata": {},
   "outputs": [],
   "source": [
    "#modified this class from the pyTorch tutorial #1\n",
    "class RNN(nn.Module):\n",
    "\n",
    "    # you can also accept arguments in your model constructor\n",
    "    def __init__(self, data_size, hidden_size, output_size):\n",
    "        super(RNN, self).__init__()\n",
    "\n",
    "        self.hidden_size = hidden_size\n",
    "        input_size = data_size + hidden_size #to note the size of input\n",
    "\n",
    "        self.i2h = nn.Linear(input_size, hidden_size)\n",
    "        self.h2o = nn.Linear(input_size, output_size)    #we may use hidden size alone\n",
    "        \n",
    "        self.softmax = nn.LogSoftmax(dim=1) #0-9 categories\n",
    "    def forward(self, data,hidden):\n",
    "        combined = torch.cat((data, hidden), 1)  #combine two inputs\n",
    "        hidden = self.i2h(combined)\n",
    "        output = self.h2o(combined)              #we may use hidden alone\n",
    "        output = self.softmax(output)\n",
    "        return hidden, output \n",
    "    def init_hidden(self):\n",
    "        return torch.zeros(BATCH_SIZE,self.hidden_size) #batch size X hidden size"
   ]
  },
  {
   "cell_type": "code",
   "execution_count": 56,
   "metadata": {},
   "outputs": [
    {
     "data": {
      "text/plain": [
       "RNN(\n",
       "  (i2h): Linear(in_features=848, out_features=64, bias=True)\n",
       "  (h2o): Linear(in_features=848, out_features=10, bias=True)\n",
       "  (softmax): LogSoftmax()\n",
       ")"
      ]
     },
     "execution_count": 56,
     "metadata": {},
     "output_type": "execute_result"
    }
   ],
   "source": [
    "rnnmodel = RNN(N_INPUTS,N_HIDDEN,N_OUTPUTS).to(device)\n",
    "rnnmodel"
   ]
  },
  {
   "cell_type": "code",
   "execution_count": 57,
   "metadata": {},
   "outputs": [],
   "source": [
    "#optimizer and loss func\n",
    "import torch.optim as optim\n",
    "\n",
    "lr=0.001\n",
    "optimizer = torch.optim.SGD(rnnmodel.parameters(), lr=lr)\n",
    "loss_func = nn.CrossEntropyLoss()"
   ]
  },
  {
   "cell_type": "code",
   "execution_count": 68,
   "metadata": {},
   "outputs": [
    {
     "name": "stdout",
     "output_type": "stream",
     "text": [
      "Epochs # 0 1 2 3 4 5 6 7 8 9 10 11 12 13 14 15 16 17 18 19 20 21 22 23 24 25 26 27 28 29 30 31 32 33 34 35 36 37 38 39 40 41 42 43 44 45 46 47 48 49 50 51 52 53 54 55 56 57 58 59 60 61 62 63 64 65 66 67 68 69 70 71 72 73 74 75 76 77 78 79 80 81 82 83 84 85 86 87 88 89 90 91 92 93 94 95 96 97 98 99 "
     ]
    }
   ],
   "source": [
    "all_losses=[]\n",
    "all_accuracy=[]\n",
    "N_EPHOCS=100\n",
    "print('Epochs # ' ,end='')\n",
    "for epoch in range(N_EPHOCS):  # loop over the dataset multiple times\n",
    "    train_running_loss = 0.0\n",
    "    train_acc = 0.0\n",
    "    rnnmodel.train()\n",
    "    # TRAINING ROUND\n",
    "    for i, data in enumerate(trainloader):\n",
    "         # zero the parameter gradients\n",
    "        optimizer.zero_grad()\n",
    "        \n",
    "        # reset hidden states\n",
    "        hidden = rnnmodel.init_hidden() \n",
    "        hidden = hidden.to(device)\n",
    "        \n",
    "        # get the inputs\n",
    "        inputs, labels = data\n",
    "              \n",
    "        inputs = inputs.view(-1, 28*28).to(device) \n",
    "\n",
    "        # forward + backward + optimize\n",
    "        outputs,hidden = rnnmodel(inputs,hidden)\n",
    "        \n",
    "        outputs = outputs.to(device)\n",
    "        hidden = hidden.to(device)\n",
    "        \n",
    "        labels = labels.to(device)\n",
    "        loss = loss_func(outputs, labels)\n",
    "        \n",
    "        loss.backward()\n",
    "        optimizer.step()\n",
    "\n",
    "        train_running_loss += loss.detach().item()\n",
    "        train_acc += get_accuracy(outputs, labels, BATCH_SIZE)\n",
    "        \n",
    "    rnnmodel.eval()\n",
    "    print('%d '%( epoch),end='')\n",
    "    all_losses.append(train_running_loss / i)\n",
    "    all_accuracy.append(train_acc/i)"
   ]
  },
  {
   "cell_type": "code",
   "execution_count": 69,
   "metadata": {},
   "outputs": [
    {
     "name": "stdout",
     "output_type": "stream",
     "text": [
      "Test Accuracy: 91.76\n"
     ]
    }
   ],
   "source": [
    "test_acc = 0.0\n",
    "\n",
    "for i, data in enumerate(testloader, 0):\n",
    "    inputs, labels = data\n",
    "    inputs = inputs.view(-1, 28*28).to(device)\n",
    "    hidden = rnnmodel.init_hidden().to(device) \n",
    "    labels = labels.to(device)\n",
    "\n",
    "    outputs,hidden = rnnmodel(inputs,hidden)\n",
    "\n",
    "    test_acc += get_accuracy(outputs, labels, BATCH_SIZE)\n",
    "        \n",
    "print('Test Accuracy: %.2f'%( test_acc/i))"
   ]
  },
  {
   "cell_type": "code",
   "execution_count": 72,
   "metadata": {},
   "outputs": [
    {
     "data": {
      "image/png": "[encoded data removed]",
      "text/plain": [
       "<Figure size 432x288 with 1 Axes>"
      ]
     },
     "metadata": {
      "needs_background": "light"
     },
     "output_type": "display_data"
    }
   ],
   "source": [
    "#plot the losses\n",
    "plt.plot(np.array(all_losses))\n",
    "plt.show()"
   ]
  },
  {
   "cell_type": "code",
   "execution_count": 73,
   "metadata": {},
   "outputs": [
    {
     "data": {
      "image/png": "[encoded data removed]",
      "text/plain": [
       "<Figure size 432x288 with 1 Axes>"
      ]
     },
     "metadata": {
      "needs_background": "light"
     },
     "output_type": "display_data"
    }
   ],
   "source": [
    "#plot the accuracy\n",
    "plt.plot(np.array(all_accuracy))\n",
    "plt.show()"
   ]
  },
  {
   "cell_type": "code",
   "execution_count": 66,
   "metadata": {},
   "outputs": [],
   "source": [
    "#predict is another matter altogether, make a dummy hidden with size of inout\n",
    "t=inputs[0:15].view(-1, 28*28).to(device)\n",
    "h =torch.zeros(t.size(0),64).to(device)"
   ]
  },
  {
   "cell_type": "code",
   "execution_count": 67,
   "metadata": {},
   "outputs": [
    {
     "name": "stdout",
     "output_type": "stream",
     "text": [
      "tensor([8, 6, 4, 1, 9, 2, 8, 4, 4, 7, 0, 1, 9, 2, 8], device='cuda:0')\n",
      "tensor([8, 6, 4, 1, 9, 3, 8, 4, 4, 7, 0, 1, 9, 2, 8], device='cuda:0')\n"
     ]
    }
   ],
   "source": [
    "#model returns ouput nad hidden, ignore hidden. output is size of batch,take the max and round it\n",
    "o,h=rnnmodel(t,h)\n",
    "#compare predicted vs original\n",
    "print(torch.max(o, 1)[1].data)\n",
    "print(labels[0:15])"
   ]
  },
  {
   "cell_type": "code",
   "execution_count": null,
   "metadata": {},
   "outputs": [],
   "source": [
    "[code]\n",
    "import torchimport torch.nn as nn\n",
    "import torchvision\n",
    "import torchvision.transforms as transforms\n",
    "[/code]\n",
    "[code]\n",
    "import matplotlib.pyplot as plt\n",
    "import numpy as np\n",
    "[/code]"
   ]
  }
 ],
 "metadata": {
  "kernelspec": {
   "display_name": "Python 3",
   "language": "python",
   "name": "python3"
  },
  "language_info": {
   "codemirror_mode": {
    "name": "ipython",
    "version": 3
   },
   "file_extension": ".py",
   "mimetype": "text/x-python",
   "name": "python",
   "nbconvert_exporter": "python",
   "pygments_lexer": "ipython3",
   "version": "3.7.6"
  }
 },
 "nbformat": 4,
 "nbformat_minor": 2
}
